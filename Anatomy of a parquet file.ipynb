{
  "nbformat": 4,
  "nbformat_minor": 2,
  "metadata": {
    "kernelspec": {
      "name": "synapse_pyspark",
      "display_name": "Synapse PySpark"
    },
    "language_info": {
      "name": "python"
    },
    "description": null,
    "save_output": true,
    "synapse_widget": {
      "version": "0.1",
      "state": {
        "c42cf7e0-4125-48c2-a413-6637b19eeaea": {
          "type": "Synapse.DataFrame",
          "sync_state": {
            "table": {
              "rows": [
                {
                  "0": "1",
                  "1": "3.2",
                  "2": "false",
                  "3": "5",
                  "4": "0.50",
                  "5": "1",
                  "6": "214",
                  "7": "214",
                  "8": "2010-07-20 19:42:41",
                  "9": "2010-07-20 20:05:30",
                  "10": "1",
                  "11": "12.90",
                  "12": "0.5",
                  "13": "2.00",
                  "14": "0.00",
                  "15": "16.40",
                  "16": "1.00",
                  "17": "0",
                  "18": "2010-07-20",
                  "19": "2010-07-20"
                },
                {
                  "0": "1",
                  "1": "9.2",
                  "2": "false",
                  "3": "5",
                  "4": "0.50",
                  "5": "1",
                  "6": "175",
                  "7": "175",
                  "8": "2010-07-28 12:17:39",
                  "9": "2010-07-28 12:34:26",
                  "10": "1",
                  "11": "21.70",
                  "12": "0.5",
                  "13": "0.00",
                  "14": "0.00",
                  "15": "22.20",
                  "16": "0.00",
                  "17": "0",
                  "18": "2010-07-28",
                  "19": "2010-07-28"
                },
                {
                  "0": "1",
                  "1": "2.5",
                  "2": "false",
                  "3": "5",
                  "4": "0.50",
                  "5": "1",
                  "6": "243",
                  "7": "243",
                  "8": "2010-07-11 01:03:43",
                  "9": "2010-07-11 01:19:21",
                  "10": "1",
                  "11": "10.50",
                  "12": "0.5",
                  "13": "0.00",
                  "14": "0.00",
                  "15": "11.50",
                  "16": "0.50",
                  "17": "0",
                  "18": "2010-07-11",
                  "19": "2010-07-11"
                },
                {
                  "0": "1",
                  "1": "2.0",
                  "2": "false",
                  "3": "5",
                  "4": "0.50",
                  "5": "1",
                  "6": "222",
                  "7": "222",
                  "8": "2010-07-11 01:30:28",
                  "9": "2010-07-11 01:42:46",
                  "10": "1",
                  "11": "8.90",
                  "12": "0.5",
                  "13": "1.48",
                  "14": "0.00",
                  "15": "11.38",
                  "16": "0.50",
                  "17": "0",
                  "18": "2010-07-11",
                  "19": "2010-07-11"
                },
                {
                  "0": "1",
                  "1": "5.1",
                  "2": "false",
                  "3": "5",
                  "4": "0.50",
                  "5": "1",
                  "6": "21",
                  "7": "21",
                  "8": "2010-07-10 18:21:17",
                  "9": "2010-07-10 18:37:42",
                  "10": "1",
                  "11": "14.50",
                  "12": "0.5",
                  "13": "3.00",
                  "14": "0.00",
                  "15": "18.00",
                  "16": "0.00",
                  "17": "0",
                  "18": "2010-07-10",
                  "19": "2010-07-10"
                },
                {
                  "0": "1",
                  "1": "1.8",
                  "2": "false",
                  "3": "5",
                  "4": "0.50",
                  "5": "1",
                  "6": "94",
                  "7": "94",
                  "8": "2010-07-04 00:22:46",
                  "9": "2010-07-04 00:34:08",
                  "10": "1",
                  "11": "8.10",
                  "12": "0.5",
                  "13": "0.00",
                  "14": "0.00",
                  "15": "9.10",
                  "16": "0.50",
                  "17": "0",
                  "18": "2010-07-04",
                  "19": "2010-07-04"
                },
                {
                  "0": "2",
                  "1": "0.9",
                  "3": "2",
                  "4": "0.50",
                  "5": "4",
                  "6": "55",
                  "7": "55",
                  "8": "2010-07-16 14:49:34",
                  "9": "2010-07-16 15:00:21",
                  "10": "1",
                  "11": "6.10",
                  "12": "0.5",
                  "13": "0.00",
                  "14": "0.00",
                  "15": "6.60",
                  "16": "0.00",
                  "17": "0",
                  "18": "2010-07-16",
                  "19": "2010-07-16"
                },
                {
                  "0": "1",
                  "1": "1.9",
                  "2": "false",
                  "3": "5",
                  "4": "0.50",
                  "5": "1",
                  "6": "108",
                  "7": "108",
                  "8": "2010-07-25 19:20:16",
                  "9": "2010-07-25 19:32:21",
                  "10": "1",
                  "11": "8.50",
                  "12": "0.5",
                  "13": "0.00",
                  "14": "0.00",
                  "15": "9.00",
                  "16": "0.00",
                  "17": "0",
                  "18": "2010-07-25",
                  "19": "2010-07-25"
                },
                {
                  "0": "2",
                  "1": "3.6",
                  "2": "false",
                  "3": "5",
                  "4": "0.50",
                  "5": "1",
                  "6": "12",
                  "7": "12",
                  "8": "2010-07-02 14:48:04",
                  "9": "2010-07-02 15:21:53",
                  "10": "1",
                  "11": "18.10",
                  "12": "0.5",
                  "13": "0.00",
                  "14": "0.00",
                  "15": "18.60",
                  "16": "0.00",
                  "17": "0",
                  "18": "2010-07-02",
                  "19": "2010-07-02"
                },
                {
                  "0": "1",
                  "1": "2.5",
                  "2": "false",
                  "3": "5",
                  "4": "0.50",
                  "5": "1",
                  "6": "207",
                  "7": "207",
                  "8": "2010-07-29 21:01:39",
                  "9": "2010-07-29 21:14:25",
                  "10": "1",
                  "11": "9.70",
                  "12": "0.5",
                  "13": "1.60",
                  "14": "0.00",
                  "15": "12.30",
                  "16": "0.50",
                  "17": "0",
                  "18": "2010-07-29",
                  "19": "2010-07-29"
                }
              ],
              "schema": [
                {
                  "key": "0",
                  "name": "Passenger_Count",
                  "type": "int"
                },
                {
                  "key": "1",
                  "name": "Trip_Distance",
                  "type": "double"
                },
                {
                  "key": "2",
                  "name": "store_and_forward",
                  "type": "boolean"
                },
                {
                  "key": "3",
                  "name": "Payment_Type",
                  "type": "int"
                },
                {
                  "key": "4",
                  "name": "mta_tax",
                  "type": "decimal"
                },
                {
                  "key": "5",
                  "name": "vendorID",
                  "type": "int"
                },
                {
                  "key": "6",
                  "name": "PULocationID",
                  "type": "int"
                },
                {
                  "key": "7",
                  "name": "DOLocationID",
                  "type": "int"
                },
                {
                  "key": "8",
                  "name": "tpep_pickup_datetime",
                  "type": "timestamp"
                },
                {
                  "key": "9",
                  "name": "tpep_dropoff_datetime",
                  "type": "timestamp"
                },
                {
                  "key": "10",
                  "name": "RatecodeID",
                  "type": "int"
                },
                {
                  "key": "11",
                  "name": "Fare_amount",
                  "type": "decimal"
                },
                {
                  "key": "12",
                  "name": "Extra",
                  "type": "double"
                },
                {
                  "key": "13",
                  "name": "Tip_amount",
                  "type": "decimal"
                },
                {
                  "key": "14",
                  "name": "Tolls_amount",
                  "type": "decimal"
                },
                {
                  "key": "15",
                  "name": "Total_amount",
                  "type": "decimal"
                },
                {
                  "key": "16",
                  "name": "Improvement_surcharge",
                  "type": "decimal"
                },
                {
                  "key": "17",
                  "name": "congestion_surcharge",
                  "type": "int"
                },
                {
                  "key": "18",
                  "name": "PickupDate",
                  "type": "date"
                },
                {
                  "key": "19",
                  "name": "DropoffDate",
                  "type": "date"
                }
              ]
            },
            "isSummary": false,
            "language": "scala"
          },
          "persist_state": {
            "view": {
              "type": "details",
              "tableOptions": {},
              "chartOptions": {
                "chartType": "bar",
                "aggregationType": "sum",
                "categoryFieldKeys": [
                  "1"
                ],
                "seriesFieldKeys": [
                  "0"
                ],
                "isStacked": false
              }
            }
          }
        }
      }
    }
  },
  "cells": [
    {
      "cell_type": "code",
      "execution_count": 1,
      "outputs": [
        {
          "output_type": "display_data",
          "data": {
            "application/vnd.livy.statement-meta+json": {
              "spark_pool": "SparkySpark",
              "session_id": 0,
              "statement_id": 1,
              "state": "finished",
              "livy_statement_state": "available",
              "queued_time": "2021-10-06T22:35:26.9053339Z",
              "session_start_time": "2021-10-06T22:35:26.9477216Z",
              "execution_start_time": "2021-10-06T22:37:52.5142173Z",
              "execution_finish_time": "2021-10-06T22:38:10.7769244Z"
            },
            "text/plain": "StatementMeta(SparkySpark, 0, 1, Finished, Available)"
          },
          "metadata": {}
        },
        {
          "output_type": "display_data",
          "data": {
            "application/vnd.synapse.widget-view+json": {
              "widget_id": "c42cf7e0-4125-48c2-a413-6637b19eeaea",
              "widget_type": "Synapse.DataFrame"
            },
            "text/plain": "SynapseWidget(Synapse.DataFrame, c42cf7e0-4125-48c2-a413-6637b19eeaea)"
          },
          "metadata": {}
        }
      ],
      "metadata": {
        "microsoft": {
          "language": "python"
        },
        "collapsed": false
      },
      "source": [
        "%%pyspark\r\n",
        "df = spark.read.load('abfss://precon@synapseinaday.dfs.core.windows.net/demo2/NYTPARQUET.parquet', format='parquet')\r\n",
        "display(df.limit(10))"
      ]
    },
    {
      "cell_type": "markdown",
      "metadata": {
        "nteract": {
          "transient": {
            "deleting": false
          }
        }
      },
      "source": [
        "<h1> Using Pyarrow we can analyze one specific file"
      ]
    },
    {
      "cell_type": "code",
      "execution_count": 2,
      "outputs": [
        {
          "output_type": "display_data",
          "data": {
            "application/vnd.livy.statement-meta+json": {
              "spark_pool": "SparkySpark",
              "session_id": 0,
              "statement_id": 2,
              "state": "finished",
              "livy_statement_state": "available",
              "queued_time": "2021-10-06T22:36:35.2002676Z",
              "session_start_time": null,
              "execution_start_time": "2021-10-06T22:38:11.5593539Z",
              "execution_finish_time": "2021-10-06T22:38:23.1733224Z"
            },
            "text/plain": "StatementMeta(SparkySpark, 0, 2, Finished, Available)"
          },
          "metadata": {}
        }
      ],
      "metadata": {
        "jupyter": {
          "source_hidden": false,
          "outputs_hidden": false
        },
        "nteract": {
          "transient": {
            "deleting": false
          }
        }
      },
      "source": [
        "from azure.storage.blob import BlobServiceClient, BlobClient, ContainerClient\r\n",
        "import pyarrow.parquet as pq\r\n",
        "from io import BytesIO\r\n",
        "filename = \"part-00001-82448f9c-6320-4d40-a5e2-a4e44ff498a3-c000.snappy.parquet\"\r\n",
        "CONNECT_STR = \"DefaultEndpointsProtocol=https;AccountName=sqlstijntraining;AccountKey=***;EndpointSuffix=core.windows.net\"\r\n",
        "container_name=\"taxi\"\r\n",
        "\r\n",
        "blob_service_client = BlobServiceClient.from_connection_string(CONNECT_STR)\r\n",
        "container_client=blob_service_client.get_container_client(container_name)\r\n",
        "blob_client = container_client.get_blob_client(filename)\r\n",
        "streamdownloader=blob_client.download_blob()\r\n",
        "\r\n",
        "stream = BytesIO()\r\n",
        "streamdownloader.download_to_stream(stream)\r\n",
        "\r\n",
        "FinallyPyArrowDF = pq.ParquetFile(source=stream)\r\n",
        ""
      ]
    },
    {
      "cell_type": "markdown",
      "metadata": {
        "nteract": {
          "transient": {
            "deleting": false
          }
        }
      },
      "source": [
        "<h1> We use a data stream to load the specific file into the Pyarrow Dataframe"
      ]
    },
    {
      "cell_type": "code",
      "execution_count": 3,
      "outputs": [
        {
          "output_type": "display_data",
          "data": {
            "application/vnd.livy.statement-meta+json": {
              "spark_pool": "SparkySpark",
              "session_id": 0,
              "statement_id": 3,
              "state": "finished",
              "livy_statement_state": "available",
              "queued_time": "2021-10-06T22:38:20.3139824Z",
              "session_start_time": null,
              "execution_start_time": "2021-10-06T22:38:23.571857Z",
              "execution_finish_time": "2021-10-06T22:38:24.0001903Z"
            },
            "text/plain": "StatementMeta(SparkySpark, 0, 3, Finished, Available)"
          },
          "metadata": {}
        },
        {
          "output_type": "display_data",
          "data": {
            "text/plain": "<pyarrow._parquet.FileMetaData object at 0x7ff58dcb8688>\n  created_by: parquet-mr version 1.10.1 (build a89df8f9932b6ef6633d06069e50c9b7970bebd1)\n  num_columns: 20\n  num_rows: 8620012\n  num_row_groups: 2\n  format_version: 1.0\n  serialized_size: 5965"
          },
          "metadata": {}
        }
      ],
      "metadata": {
        "jupyter": {
          "source_hidden": false,
          "outputs_hidden": false
        },
        "nteract": {
          "transient": {
            "deleting": false
          }
        }
      },
      "source": [
        "FinallyPyArrowDF.metadata"
      ]
    },
    {
      "cell_type": "markdown",
      "metadata": {
        "nteract": {
          "transient": {
            "deleting": false
          }
        }
      },
      "source": [
        "<h1> As you can see we can find the Data Body structure by reading the footer metadata from the PyArrow using the metadata function"
      ]
    },
    {
      "cell_type": "code",
      "execution_count": 6,
      "outputs": [
        {
          "output_type": "display_data",
          "data": {
            "application/vnd.livy.statement-meta+json": {
              "spark_pool": "SparkySpark",
              "session_id": 0,
              "statement_id": 6,
              "state": "finished",
              "livy_statement_state": "available",
              "queued_time": "2021-10-06T22:38:54.5356115Z",
              "session_start_time": null,
              "execution_start_time": "2021-10-06T22:38:54.94681Z",
              "execution_finish_time": "2021-10-06T22:38:55.3925347Z"
            },
            "text/plain": "StatementMeta(SparkySpark, 0, 6, Finished, Available)"
          },
          "metadata": {}
        },
        {
          "output_type": "display_data",
          "data": {
            "text/plain": "<pyarrow._parquet.RowGroupMetaData object at 0x7ff570cde630>\n  num_columns: 20\n  num_rows: 5200100\n  total_byte_size: 182255572"
          },
          "metadata": {}
        }
      ],
      "metadata": {
        "jupyter": {
          "source_hidden": false,
          "outputs_hidden": false
        },
        "nteract": {
          "transient": {
            "deleting": false
          }
        }
      },
      "source": [
        "FinallyPyArrowDF.metadata.row_group(0)"
      ]
    },
    {
      "cell_type": "markdown",
      "metadata": {
        "nteract": {
          "transient": {
            "deleting": false
          }
        }
      },
      "source": [
        "<h1> We can look at a specific rowgroup (Starts at 0) and see the amount of columns and num of rows and size"
      ]
    },
    {
      "cell_type": "code",
      "execution_count": 15,
      "outputs": [
        {
          "output_type": "display_data",
          "data": {
            "application/vnd.livy.statement-meta+json": {
              "spark_pool": "SparkySpark",
              "session_id": 0,
              "statement_id": 15,
              "state": "finished",
              "livy_statement_state": "available",
              "queued_time": "2021-10-06T22:46:10.7619066Z",
              "session_start_time": null,
              "execution_start_time": "2021-10-06T22:46:11.1525953Z",
              "execution_finish_time": "2021-10-06T22:46:11.5987519Z"
            },
            "text/plain": "StatementMeta(SparkySpark, 0, 15, Finished, Available)"
          },
          "metadata": {}
        },
        {
          "output_type": "display_data",
          "data": {
            "text/plain": "<pyarrow._parquet.ParquetSchema object at 0x7ff570cf8be0>\nrequired group field_id=0 spark_schema {\n  optional int32 field_id=1 Passenger_Count;\n  optional double field_id=2 Trip_Distance;\n  optional boolean field_id=3 store_and_forward;\n  optional int32 field_id=4 Payment_Type;\n  optional int64 field_id=5 mta_tax (Decimal(precision=10, scale=2));\n  optional int32 field_id=6 vendorID;\n  optional int32 field_id=7 PULocationID;\n  optional int32 field_id=8 DOLocationID;\n  optional int96 field_id=9 tpep_pickup_datetime;\n  optional int96 field_id=10 tpep_dropoff_datetime;\n  optional int32 field_id=11 RatecodeID;\n  optional int64 field_id=12 Fare_amount (Decimal(precision=10, scale=2));\n  optional double field_id=13 Extra;\n  optional int64 field_id=14 Tip_amount (Decimal(precision=10, scale=2));\n  optional int64 field_id=15 Tolls_amount (Decimal(precision=10, scale=2));\n  optional int64 field_id=16 Total_amount (Decimal(precision=10, scale=2));\n  optional int64 field_id=17 Improvement_surcharge (Decimal(precision=10, scale=2));\n  optional int32 field_id=18 congestion_surcharge;\n  optional int32 field_id=19 PickupDate (Date);\n  optional int32 field_id=20 DropoffDate (Date);\n}"
          },
          "metadata": {}
        }
      ],
      "metadata": {
        "jupyter": {
          "source_hidden": false,
          "outputs_hidden": false
        },
        "nteract": {
          "transient": {
            "deleting": false
          }
        }
      },
      "source": [
        "FinallyPyArrowDF.schema"
      ]
    },
    {
      "cell_type": "markdown",
      "metadata": {
        "nteract": {
          "transient": {
            "deleting": false
          }
        }
      },
      "source": [
        "<h1> We can read the schema and see the data types and type of fields using the schema function"
      ]
    },
    {
      "cell_type": "code",
      "execution_count": 8,
      "outputs": [
        {
          "output_type": "display_data",
          "data": {
            "application/vnd.livy.statement-meta+json": {
              "spark_pool": "SparkySpark",
              "session_id": 0,
              "statement_id": 8,
              "state": "finished",
              "livy_statement_state": "available",
              "queued_time": "2021-10-06T22:40:35.0922861Z",
              "session_start_time": null,
              "execution_start_time": "2021-10-06T22:40:35.5027852Z",
              "execution_finish_time": "2021-10-06T22:40:35.9495327Z"
            },
            "text/plain": "StatementMeta(SparkySpark, 0, 8, Finished, Available)"
          },
          "metadata": {}
        },
        {
          "output_type": "display_data",
          "data": {
            "text/plain": "<pyarrow._parquet.ColumnChunkMetaData object at 0x7ff570cde510>\n  file_offset: 13098788\n  file_path: \n  physical_type: INT32\n  num_values: 5200100\n  path_in_schema: PULocationID\n  is_stats_set: True\n  statistics:\n    <pyarrow._parquet.Statistics object at 0x7ff570cde480>\n      has_min_max: True\n      min: 2\n      max: 3\n      null_count: 0\n      distinct_count: 0\n      num_values: 5200100\n      physical_type: INT32\n      logical_type: None\n      converted_type (legacy): NONE\n  compression: SNAPPY\n  encodings: ('RLE', 'BIT_PACKED', 'PLAIN_DICTIONARY')\n  has_dictionary_page: False\n  dictionary_page_offset: None\n  data_page_offset: 13098788\n  total_compressed_size: 1251\n  total_uncompressed_size: 1209"
          },
          "metadata": {}
        }
      ],
      "metadata": {
        "jupyter": {
          "source_hidden": false,
          "outputs_hidden": false
        },
        "nteract": {
          "transient": {
            "deleting": false
          }
        }
      },
      "source": [
        "FinallyPyArrowDF.metadata.row_group(0).column(6)"
      ]
    },
    {
      "cell_type": "markdown",
      "metadata": {
        "nteract": {
          "transient": {
            "deleting": false
          }
        }
      },
      "source": [
        "<h1> We can also look at the column chunks and find out thefile offset, type, compression type etc..."
      ]
    },
    {
      "cell_type": "code",
      "execution_count": 12,
      "outputs": [
        {
          "output_type": "display_data",
          "data": {
            "application/vnd.livy.statement-meta+json": {
              "spark_pool": "SparkySpark",
              "session_id": 0,
              "statement_id": 12,
              "state": "finished",
              "livy_statement_state": "available",
              "queued_time": "2021-10-06T22:41:33.4639837Z",
              "session_start_time": null,
              "execution_start_time": "2021-10-06T22:41:33.9148384Z",
              "execution_finish_time": "2021-10-06T22:41:34.3580534Z"
            },
            "text/plain": "StatementMeta(SparkySpark, 0, 12, Finished, Available)"
          },
          "metadata": {}
        },
        {
          "output_type": "display_data",
          "data": {
            "text/plain": "<pyarrow._parquet.Statistics object at 0x7ff570cc8240>\n  has_min_max: True\n  min: 2\n  max: 3\n  null_count: 0\n  distinct_count: 0\n  num_values: 5200100\n  physical_type: INT32\n  logical_type: None\n  converted_type (legacy): NONE"
          },
          "metadata": {}
        }
      ],
      "metadata": {
        "jupyter": {
          "source_hidden": false,
          "outputs_hidden": false
        },
        "nteract": {
          "transient": {
            "deleting": false
          }
        }
      },
      "source": [
        "FinallyPyArrowDF.metadata.row_group(0).column(6).statistics"
      ]
    },
    {
      "cell_type": "markdown",
      "metadata": {
        "nteract": {
          "transient": {
            "deleting": false
          }
        }
      },
      "source": [
        "<h1> We can also focus on the statistics(If they are created) of a file which shows us the min and max value etc"
      ]
    },
    {
      "cell_type": "code",
      "execution_count": 9,
      "outputs": [
        {
          "output_type": "display_data",
          "data": {
            "application/vnd.livy.statement-meta+json": {
              "spark_pool": "SparkySpark",
              "session_id": 0,
              "statement_id": 9,
              "state": "finished",
              "livy_statement_state": "available",
              "queued_time": "2021-10-06T22:40:42.311856Z",
              "session_start_time": null,
              "execution_start_time": "2021-10-06T22:40:42.7825609Z",
              "execution_finish_time": "2021-10-06T22:40:43.2242652Z"
            },
            "text/plain": "StatementMeta(SparkySpark, 0, 9, Finished, Available)"
          },
          "metadata": {}
        },
        {
          "output_type": "display_data",
          "data": {
            "text/plain": "<pyarrow._parquet.ColumnChunkMetaData object at 0x7ff570cde6c0>\n  file_offset: 1883426\n  file_path: \n  physical_type: DOUBLE\n  num_values: 5200100\n  path_in_schema: Trip_Distance\n  is_stats_set: True\n  statistics:\n    <pyarrow._parquet.Statistics object at 0x7ff570cdefc0>\n      has_min_max: True\n      min: 0.0\n      max: 6805400.0\n      null_count: 0\n      distinct_count: 0\n      num_values: 5200100\n      physical_type: DOUBLE\n      logical_type: None\n      converted_type (legacy): NONE\n  compression: SNAPPY\n  encodings: ('RLE', 'BIT_PACKED', 'PLAIN_DICTIONARY')\n  has_dictionary_page: False\n  dictionary_page_offset: None\n  data_page_offset: 1883426\n  total_compressed_size: 7830206\n  total_uncompressed_size: 7843705"
          },
          "metadata": {}
        }
      ],
      "metadata": {
        "jupyter": {
          "source_hidden": false,
          "outputs_hidden": false
        },
        "nteract": {
          "transient": {
            "deleting": false
          }
        }
      },
      "source": [
        "FinallyPyArrowDF.metadata.row_group(0).column(1)"
      ]
    }
  ]
}
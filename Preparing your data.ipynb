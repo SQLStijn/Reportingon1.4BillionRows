{
  "nbformat": 4,
  "nbformat_minor": 2,
  "metadata": {
    "kernelspec": {
      "name": "synapse_pyspark",
      "display_name": "Synapse PySpark"
    },
    "language_info": {
      "name": "python"
    },
    "description": null,
    "save_output": true,
    "synapse_widget": {
      "version": "0.1",
      "state": {
        "cd270fa4-00bc-447c-b3fd-ef8871b78b9e": {
          "type": "Synapse.DataFrame",
          "sync_state": {
            "table": {
              "rows": [
                {
                  "0": "3",
                  "1": "3.9",
                  "2": "false",
                  "3": "5",
                  "4": "0.50",
                  "5": "1",
                  "6": "105",
                  "7": "105",
                  "8": "2010-07-18 15:13:00",
                  "9": "2010-07-18 15:25:03",
                  "10": "1",
                  "11": "11.30",
                  "12": "0.5",
                  "13": "2.36",
                  "14": "0.00",
                  "15": "14.16",
                  "16": "0.00",
                  "17": "0",
                  "18": "2010-07-18",
                  "19": "2010-07-18"
                },
                {
                  "0": "3",
                  "1": "3.1",
                  "2": "false",
                  "3": "5",
                  "4": "0.50",
                  "5": "1",
                  "6": "111",
                  "7": "111",
                  "8": "2010-07-24 18:58:02",
                  "9": "2010-07-24 19:12:15",
                  "10": "1",
                  "11": "10.50",
                  "12": "0.5",
                  "13": "0.00",
                  "14": "0.00",
                  "15": "11.00",
                  "16": "0.00",
                  "17": "0",
                  "18": "2010-07-24",
                  "19": "2010-07-24"
                },
                {
                  "0": "1",
                  "1": "1.6",
                  "2": "false",
                  "3": "5",
                  "4": "0.50",
                  "5": "1",
                  "6": "154",
                  "7": "154",
                  "8": "2010-07-21 15:48:56",
                  "9": "2010-07-21 16:07:45",
                  "10": "1",
                  "11": "10.50",
                  "12": "0.5",
                  "13": "2.00",
                  "14": "0.00",
                  "15": "13.00",
                  "16": "0.00",
                  "17": "0",
                  "18": "2010-07-21",
                  "19": "2010-07-21"
                },
                {
                  "0": "1",
                  "1": "3.2",
                  "3": "2",
                  "4": "0.50",
                  "5": "4",
                  "6": "144",
                  "7": "144",
                  "8": "2010-07-31 02:13:13",
                  "9": "2010-07-31 02:23:11",
                  "10": "1",
                  "11": "10.10",
                  "12": "0.5",
                  "13": "0.00",
                  "14": "0.00",
                  "15": "11.10",
                  "16": "0.50",
                  "17": "0",
                  "18": "2010-07-31",
                  "19": "2010-07-31"
                },
                {
                  "0": "2",
                  "1": "0.8",
                  "2": "false",
                  "3": "5",
                  "4": "0.50",
                  "5": "1",
                  "6": "129",
                  "7": "129",
                  "8": "2010-07-27 17:23:22",
                  "9": "2010-07-27 17:27:29",
                  "10": "1",
                  "11": "4.50",
                  "12": "0.5",
                  "13": "0.00",
                  "14": "0.00",
                  "15": "6.00",
                  "16": "1.00",
                  "17": "0",
                  "18": "2010-07-27",
                  "19": "2010-07-27"
                },
                {
                  "0": "1",
                  "1": "1.0",
                  "2": "false",
                  "3": "5",
                  "4": "0.50",
                  "5": "1",
                  "6": "254",
                  "7": "254",
                  "8": "2010-07-16 07:23:57",
                  "9": "2010-07-16 07:27:20",
                  "10": "1",
                  "11": "4.50",
                  "12": "0.5",
                  "13": "0.50",
                  "14": "0.00",
                  "15": "5.50",
                  "16": "0.00",
                  "17": "0",
                  "18": "2010-07-16",
                  "19": "2010-07-16"
                },
                {
                  "0": "2",
                  "1": "10.8",
                  "3": "1",
                  "4": "0.50",
                  "5": "4",
                  "6": "215",
                  "7": "215",
                  "8": "2010-07-15 15:30:54",
                  "9": "2010-07-15 16:11:51",
                  "10": "4",
                  "11": "28.50",
                  "12": "0.5",
                  "13": "5.80",
                  "14": "9.14",
                  "15": "43.94",
                  "16": "0.00",
                  "17": "0",
                  "18": "2010-07-15",
                  "19": "2010-07-15"
                },
                {
                  "0": "1",
                  "1": "1.9",
                  "3": "1",
                  "4": "0.50",
                  "5": "4",
                  "6": "142",
                  "7": "142",
                  "8": "2010-07-15 22:37:57",
                  "9": "2010-07-15 22:48:11",
                  "10": "1",
                  "11": "7.70",
                  "12": "0.5",
                  "13": "1.70",
                  "14": "0.00",
                  "15": "10.40",
                  "16": "0.50",
                  "17": "0",
                  "18": "2010-07-15",
                  "19": "2010-07-15"
                },
                {
                  "0": "1",
                  "1": "3.5",
                  "2": "false",
                  "3": "5",
                  "4": "0.50",
                  "5": "1",
                  "6": "67",
                  "7": "67",
                  "8": "2010-07-08 12:08:26",
                  "9": "2010-07-08 12:27:29",
                  "10": "1",
                  "11": "12.90",
                  "12": "0.5",
                  "13": "0.00",
                  "14": "0.00",
                  "15": "13.40",
                  "16": "0.00",
                  "17": "0",
                  "18": "2010-07-08",
                  "19": "2010-07-08"
                },
                {
                  "0": "1",
                  "1": "3.2",
                  "2": "false",
                  "3": "5",
                  "4": "0.50",
                  "5": "1",
                  "6": "83",
                  "7": "83",
                  "8": "2010-07-19 09:09:52",
                  "9": "2010-07-19 09:27:51",
                  "10": "1",
                  "11": "12.10",
                  "12": "0.5",
                  "13": "2.52",
                  "14": "0.00",
                  "15": "15.12",
                  "16": "0.00",
                  "17": "0",
                  "18": "2010-07-19",
                  "19": "2010-07-19"
                }
              ],
              "schema": [
                {
                  "key": "0",
                  "name": "Passenger_Count",
                  "type": "int"
                },
                {
                  "key": "1",
                  "name": "Trip_Distance",
                  "type": "double"
                },
                {
                  "key": "2",
                  "name": "store_and_forward",
                  "type": "boolean"
                },
                {
                  "key": "3",
                  "name": "Payment_Type",
                  "type": "int"
                },
                {
                  "key": "4",
                  "name": "mta_tax",
                  "type": "decimal"
                },
                {
                  "key": "5",
                  "name": "vendorID",
                  "type": "int"
                },
                {
                  "key": "6",
                  "name": "PULocationID",
                  "type": "int"
                },
                {
                  "key": "7",
                  "name": "DOLocationID",
                  "type": "int"
                },
                {
                  "key": "8",
                  "name": "tpep_pickup_datetime",
                  "type": "timestamp"
                },
                {
                  "key": "9",
                  "name": "tpep_dropoff_datetime",
                  "type": "timestamp"
                },
                {
                  "key": "10",
                  "name": "RatecodeID",
                  "type": "int"
                },
                {
                  "key": "11",
                  "name": "Fare_amount",
                  "type": "decimal"
                },
                {
                  "key": "12",
                  "name": "Extra",
                  "type": "double"
                },
                {
                  "key": "13",
                  "name": "Tip_amount",
                  "type": "decimal"
                },
                {
                  "key": "14",
                  "name": "Tolls_amount",
                  "type": "decimal"
                },
                {
                  "key": "15",
                  "name": "Total_amount",
                  "type": "decimal"
                },
                {
                  "key": "16",
                  "name": "Improvement_surcharge",
                  "type": "decimal"
                },
                {
                  "key": "17",
                  "name": "congestion_surcharge",
                  "type": "int"
                },
                {
                  "key": "18",
                  "name": "PickupDate",
                  "type": "date"
                },
                {
                  "key": "19",
                  "name": "DropoffDate",
                  "type": "date"
                }
              ],
              "truncated": false
            },
            "isSummary": false,
            "language": "scala"
          },
          "persist_state": {
            "view": {
              "type": "details",
              "tableOptions": {},
              "chartOptions": {
                "chartType": "bar",
                "aggregationType": "sum",
                "categoryFieldKeys": [
                  "1"
                ],
                "seriesFieldKeys": [
                  "0"
                ],
                "isStacked": false
              }
            }
          }
        }
      }
    }
  },
  "cells": [
    {
      "cell_type": "markdown",
      "metadata": {
        "nteract": {
          "transient": {
            "deleting": false
          }
        }
      },
      "source": [
        "<h1> Load in a data frame which has all the data"
      ]
    },
    {
      "cell_type": "code",
      "execution_count": 1,
      "outputs": [
        {
          "output_type": "display_data",
          "data": {
            "application/vnd.livy.statement-meta+json": {
              "spark_pool": "SampleSpark",
              "session_id": 8,
              "statement_id": 1,
              "state": "finished",
              "livy_statement_state": "available",
              "queued_time": "2022-03-10T13:37:55.9171049Z",
              "session_start_time": "2022-03-10T13:37:55.9725765Z",
              "execution_start_time": "2022-03-10T13:38:52.0512032Z",
              "execution_finish_time": "2022-03-10T13:39:27.4676323Z"
            },
            "text/plain": "StatementMeta(SampleSpark, 8, 1, Finished, Available)"
          },
          "metadata": {}
        },
        {
          "output_type": "display_data",
          "data": {
            "application/vnd.synapse.widget-view+json": {
              "widget_id": "cd270fa4-00bc-447c-b3fd-ef8871b78b9e",
              "widget_type": "Synapse.DataFrame"
            },
            "text/plain": "SynapseWidget(Synapse.DataFrame, cd270fa4-00bc-447c-b3fd-ef8871b78b9e)"
          },
          "metadata": {}
        }
      ],
      "metadata": {
        "microsoft": {
          "language": "python"
        },
        "collapsed": false
      },
      "source": [
        "%%pyspark\r\n",
        "df = spark.read.load('abfss://raw@synapseinaday.dfs.core.windows.net/TaxiNP/', format='parquet')\r\n",
        "display(df.limit(10))"
      ]
    },
    {
      "cell_type": "markdown",
      "metadata": {
        "nteract": {
          "transient": {
            "deleting": false
          }
        }
      },
      "source": [
        "<h1> Partition a dataframe\r\n",
        "\r\n",
        "We use the partitionby function to partition by year"
      ]
    },
    {
      "cell_type": "code",
      "execution_count": null,
      "outputs": [
        {
          "output_type": "display_data",
          "data": {
            "application/vnd.livy.statement-meta+json": {
              "spark_pool": null,
              "session_id": null,
              "statement_id": null,
              "state": "cancelled",
              "livy_statement_state": null,
              "queued_time": "2022-03-10T13:40:08.1472219Z",
              "session_start_time": null,
              "execution_start_time": null,
              "execution_finish_time": "2022-03-10T13:40:12.0285188Z"
            },
            "text/plain": "StatementMeta(, , , Cancelled, )"
          },
          "metadata": {}
        }
      ],
      "metadata": {
        "jupyter": {
          "source_hidden": false,
          "outputs_hidden": false
        },
        "nteract": {
          "transient": {
            "deleting": false
          }
        }
      },
      "source": [
        "WritePartitionedData = (\r\n",
        "    df\r\n",
        "    .write\r\n",
        "    .partitionBy('PULocationID')\r\n",
        "    .format(\"parquet\")\r\n",
        "    .save(\"abfss://precon@synapseinaday.dfs.core.windows.net/Demo6/PartionedByPULocationID/\")\r\n",
        ")\r\n",
        ""
      ]
    },
    {
      "cell_type": "markdown",
      "metadata": {
        "nteract": {
          "transient": {
            "deleting": false
          }
        }
      },
      "source": [
        "<h1>Creating a Partitioned Sorted Dataset\r\n",
        "\r\n",
        "We use the coalesce to limit the amount of files and the partitionby to create the folder structure"
      ]
    },
    {
      "cell_type": "code",
      "execution_count": 6,
      "outputs": [
        {
          "output_type": "display_data",
          "data": {
            "application/vnd.livy.statement-meta+json": {
              "spark_pool": "SampleSpark",
              "session_id": 8,
              "statement_id": 6,
              "state": "submitted",
              "livy_statement_state": "running",
              "queued_time": "2022-03-10T13:58:09.2799229Z",
              "session_start_time": null,
              "execution_start_time": "2022-03-10T13:58:09.6737017Z",
              "execution_finish_time": null
            },
            "text/plain": "StatementMeta(SampleSpark, 8, 6, Submitted, Running)"
          },
          "metadata": {}
        }
      ],
      "metadata": {
        "jupyter": {
          "source_hidden": false,
          "outputs_hidden": false
        },
        "nteract": {
          "transient": {
            "deleting": false
          }
        }
      },
      "source": [
        "df.createOrReplaceTempView('_temp_OrderedTaxi')\r\n",
        "tbr = spark.sql('Select *, YEAR(dropoffdate) as TheYear from _temp_OrderedTaxi')\r\n",
        "(tbr\r\n",
        ".repartition(\"TheYear\")\r\n",
        ".sortWithinPartitions('PULocationID')\r\n",
        ".write\r\n",
        ".partitionBy('TheYear')\r\n",
        ".format('parquet')\r\n",
        ".mode(\"overwrite\")\r\n",
        ".save(\"abfss://precon@synapseinaday.dfs.core.windows.net/Demo6/SegmentE4/\")\r\n",
        ")"
      ]
    },
    {
      "cell_type": "markdown",
      "metadata": {
        "nteract": {
          "transient": {
            "deleting": false
          }
        }
      },
      "source": [
        "<h1> Check for Spark SQL and see difference in file size and runtime"
      ]
    },
    {
      "cell_type": "code",
      "execution_count": null,
      "outputs": [],
      "metadata": {
        "jupyter": {
          "source_hidden": false,
          "outputs_hidden": false
        },
        "nteract": {
          "transient": {
            "deleting": false
          }
        }
      },
      "source": [
        "Sorteddf = df.orderBy('PULocationID')\r\n",
        "\r\n",
        "WriteSortedData = Sorteddf.write.format(\"parquet\").save(\"abfss://precon@synapseinaday.dfs.core.windows.net/Demo6/OrderedByLocationID/\")"
      ]
    },
    {
      "cell_type": "code",
      "execution_count": 3,
      "outputs": [
        {
          "output_type": "display_data",
          "data": {
            "application/vnd.livy.statement-meta+json": {
              "spark_pool": "SampleSpark",
              "session_id": 1,
              "statement_id": 3,
              "state": "finished",
              "livy_statement_state": "available",
              "queued_time": "2021-10-25T11:58:57.6720197Z",
              "session_start_time": null,
              "execution_start_time": "2021-10-25T12:14:11.4624866Z",
              "execution_finish_time": "2021-10-25T12:18:19.302485Z"
            },
            "text/plain": "StatementMeta(SampleSpark, 1, 3, Finished, Available)"
          },
          "metadata": {}
        }
      ],
      "metadata": {
        "jupyter": {
          "source_hidden": false,
          "outputs_hidden": false
        },
        "nteract": {
          "transient": {
            "deleting": false
          }
        }
      },
      "source": [
        "df.createOrReplaceTempView('_temp_OrderedTaxi')\r\n",
        "tbr = spark.sql('Select *, YEAR(dropoffdate) as TheYear from _temp_OrderedTaxi order by PULocationID,PickupDate')\r\n",
        "tbr.write.partitionBy('PULocationID').format('parquet').save(\"abfss://precon@synapseinaday.dfs.core.windows.net/Demo6/OrderedAndSortedSparkSQL/\")"
      ]
    }
  ]
}
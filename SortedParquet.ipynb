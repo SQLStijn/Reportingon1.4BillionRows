{
  "cells": [
    {
      "cell_type": "markdown",
      "source": [
        "<h1> Loading Sorted Dataset to PyArrow"
      ],
      "metadata": {
        "nteract": {
          "transient": {
            "deleting": false
          }
        }
      }
    },
    {
      "cell_type": "code",
      "source": [
        "from azure.storage.blob import BlobServiceClient, BlobClient, ContainerClient\r\n",
        "import pyarrow.parquet as pq\r\n",
        "from io import BytesIO\r\n",
        "filename = \"part-00001-82448f9c-6320-4d40-a5e2-a4e44ff498a3-c000.snappy.parquet\"\r\n",
        "CONNECT_STR = \"DefaultEndpointsProtocol=https;AccountName=sqlstijntraining;AccountKey=***;EndpointSuffix=core.windows.net\"\r\n",
        "container_name=\"taxi\"\r\n",
        "\r\n",
        "blob_service_client = BlobServiceClient.from_connection_string(CONNECT_STR)\r\n",
        "container_client=blob_service_client.get_container_client(container_name)\r\n",
        "blob_client = container_client.get_blob_client(filename)\r\n",
        "streamdownloader=blob_client.download_blob()\r\n",
        "\r\n",
        "stream = BytesIO()\r\n",
        "streamdownloader.download_to_stream(stream)\r\n",
        "\r\n",
        "FinallyPyArrowDF = pq.ParquetFile(source=stream)\r\n"
      ],
      "outputs": [
        {
          "output_type": "display_data",
          "data": {
            "application/vnd.livy.statement-meta+json": {
              "spark_pool": "SparkySpark",
              "session_id": 4,
              "statement_id": 19,
              "state": "finished",
              "livy_statement_state": "available",
              "queued_time": "2021-03-09T11:22:42.5900455Z",
              "execution_start_time": "2021-03-09T11:22:42.6769622Z",
              "execution_finish_time": "2021-03-09T11:22:48.7865424Z"
            },
            "text/plain": "StatementMeta(SparkySpark, 4, 19, Finished, Available)"
          },
          "metadata": {}
        },
        {
          "output_type": "execute_result",
          "execution_count": 37,
          "data": {
            "text/plain": ""
          },
          "metadata": {}
        }
      ],
      "execution_count": 37,
      "metadata": {
        "jupyter": {
          "source_hidden": false,
          "outputs_hidden": false
        },
        "nteract": {
          "transient": {
            "deleting": false
          }
        },
        "collapsed": true
      }
    },
    {
      "cell_type": "markdown",
      "source": [
        "<h1>Querying File Metadata for the first rowgroup of the column PULocationID"
      ],
      "metadata": {
        "nteract": {
          "transient": {
            "deleting": false
          }
        }
      }
    },
    {
      "cell_type": "code",
      "source": [
        "FinallyPyArrowDF.metadata.row_group(0).column(6)"
      ],
      "outputs": [
        {
          "output_type": "display_data",
          "data": {
            "application/vnd.livy.statement-meta+json": {
              "spark_pool": "SparkySpark",
              "session_id": 4,
              "statement_id": 27,
              "state": "finished",
              "livy_statement_state": "available",
              "queued_time": "2021-03-09T11:25:24.4232164Z",
              "execution_start_time": "2021-03-09T11:25:24.508348Z",
              "execution_finish_time": "2021-03-09T11:25:26.5697788Z"
            },
            "text/plain": "StatementMeta(SparkySpark, 4, 27, Finished, Available)"
          },
          "metadata": {}
        },
        {
          "output_type": "execute_result",
          "execution_count": 45,
          "data": {
            "text/plain": "<pyarrow._parquet.ColumnChunkMetaData object at 0x7f67174fd990>\n  file_offset: 13098788\n  file_path: \n  physical_type: INT32\n  num_values: 5200100\n  path_in_schema: PULocationID\n  is_stats_set: True\n  statistics:\n    <pyarrow._parquet.Statistics object at 0x7f67174fd750>\n      has_min_max: True\n      min: 2\n      max: 3\n      null_count: 0\n      distinct_count: 0\n      num_values: 5200100\n      physical_type: INT32\n      logical_type: None\n      converted_type (legacy): NONE\n  compression: SNAPPY\n  encodings: ('RLE', 'BIT_PACKED', 'PLAIN_DICTIONARY')\n  has_dictionary_page: False\n  dictionary_page_offset: None\n  data_page_offset: 13098788\n  total_compressed_size: 1251\n  total_uncompressed_size: 1209"
          },
          "metadata": {}
        }
      ],
      "execution_count": 45,
      "metadata": {
        "jupyter": {
          "source_hidden": false,
          "outputs_hidden": false
        },
        "nteract": {
          "transient": {
            "deleting": false
          }
        },
        "collapsed": true
      }
    },
    {
      "cell_type": "markdown",
      "source": [
        "<h1>Querying File Metadata data for the second rowgroup of the Column PULocationID"
      ],
      "metadata": {
        "nteract": {
          "transient": {
            "deleting": false
          }
        }
      }
    },
    {
      "cell_type": "code",
      "source": [
        "FinallyPyArrowDF.metadata.row_group(1).column(6)"
      ],
      "outputs": [
        {
          "output_type": "display_data",
          "data": {
            "application/vnd.livy.statement-meta+json": {
              "spark_pool": "SparkySpark",
              "session_id": 4,
              "statement_id": 28,
              "state": "finished",
              "livy_statement_state": "available",
              "queued_time": "2021-03-09T11:25:26.5320869Z",
              "execution_start_time": "2021-03-09T11:25:26.6612781Z",
              "execution_finish_time": "2021-03-09T11:25:28.7031323Z"
            },
            "text/plain": "StatementMeta(SparkySpark, 4, 28, Finished, Available)"
          },
          "metadata": {}
        },
        {
          "output_type": "execute_result",
          "execution_count": 46,
          "data": {
            "text/plain": "<pyarrow._parquet.ColumnChunkMetaData object at 0x7f67174fd8b8>\n  file_offset: 130788709\n  file_path: \n  physical_type: INT32\n  num_values: 3419912\n  path_in_schema: PULocationID\n  is_stats_set: True\n  statistics:\n    <pyarrow._parquet.Statistics object at 0x7f67174fd990>\n      has_min_max: True\n      min: 3\n      max: 3\n      null_count: 0\n      distinct_count: 0\n      num_values: 3419912\n      physical_type: INT32\n      logical_type: None\n      converted_type (legacy): NONE\n  compression: SNAPPY\n  encodings: ('RLE', 'BIT_PACKED', 'PLAIN_DICTIONARY')\n  has_dictionary_page: False\n  dictionary_page_offset: None\n  data_page_offset: 130788709\n  total_compressed_size: 873\n  total_uncompressed_size: 843"
          },
          "metadata": {}
        }
      ],
      "execution_count": 46,
      "metadata": {
        "jupyter": {
          "source_hidden": false,
          "outputs_hidden": false
        },
        "nteract": {
          "transient": {
            "deleting": false
          }
        },
        "collapsed": true
      }
    }
  ],
  "metadata": {
    "kernelspec": {
      "name": "synapse_pyspark",
      "display_name": "Synapse PySpark"
    },
    "language_info": {
      "name": "python"
    },
    "description": null,
    "save_output": true,
    "synapse_widget": {
      "version": "0.1",
      "state": {}
    }
  },
  "nbformat": 4,
  "nbformat_minor": 2
}